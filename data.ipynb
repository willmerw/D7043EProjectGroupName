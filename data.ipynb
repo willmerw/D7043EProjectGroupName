{
 "cells": [
  {
   "cell_type": "code",
   "execution_count": 67,
   "id": "8722198d",
   "metadata": {},
   "outputs": [],
   "source": [
    "import os\n",
    "from glob import glob\n",
    "from PIL import Image\n",
    "import torch\n",
    "from torch.utils.data import Dataset, DataLoader\n",
    "from torchvision import transforms\n",
    "import numpy as np\n",
    "from torchvision.datasets import ImageFolder\n",
    "import pandas as pd\n",
    "from collections import Counter"
   ]
  },
  {
   "cell_type": "code",
   "execution_count": 71,
   "id": "9d71b9f9",
   "metadata": {},
   "outputs": [
    {
     "name": "stderr",
     "output_type": "stream",
     "text": [
      "<>:11: SyntaxWarning: invalid escape sequence '\\I'\n",
      "<>:11: SyntaxWarning: invalid escape sequence '\\I'\n",
      "C:\\Users\\willm\\AppData\\Local\\Temp\\ipykernel_33476\\68479286.py:11: SyntaxWarning: invalid escape sequence '\\I'\n",
      "  self.image_paths.append(os.path.join(root_dir+\"\\Image\",filename))\n"
     ]
    }
   ],
   "source": [
    "\n",
    "\n",
    "class FishLabelDataset(Dataset):\n",
    "    def __init__(self, root_dir, transform=None):\n",
    "        self.image_paths = []\n",
    "        self.unique_labels = []\n",
    "        self.labels = []\n",
    "        self.transform = transform\n",
    "        for df_name in [\"classification_train.csv\",\"classification_val.csv\",\"classification_test.csv\"]:\n",
    "            df_dir = os.path.join(root_dir, df_name)\n",
    "            df = pd.read_csv(df_dir)\n",
    "            for filename in df[\"filename\"].tolist():\n",
    "                self.image_paths.append(os.path.join(root_dir+\"\\Image\",filename))\n",
    "            for label in df[\"family\"].tolist():\n",
    "                label = label.upper()\n",
    "                if label == \"CYPRINIDAE\":\n",
    "                    self.labels.append(1)\n",
    "                else:\n",
    "                    self.labels.append(0)\n",
    "                \"\"\"\n",
    "                self.labels.append(label)\n",
    "                if label not in self.unique_labels:\n",
    "                    self.unique_labels.append(label)\n",
    "                \"\"\"\n",
    "\n",
    "\n",
    "    def __len__(self):\n",
    "        return len(self.image_paths)\n",
    "\n",
    "    def __getitem__(self, idx):\n",
    "        img_path = self.image_paths[idx]\n",
    "        #label = self.unique_labels.index(self.labels[idx])\n",
    "        label = self.labels[idx]\n",
    "        \"\"\"\n",
    "        image = Image.open(img_path).convert(\"RGB\")\n",
    "\n",
    "        if self.transform:\n",
    "            image = self.transform(image)\n",
    "\n",
    "        \"\"\"\n",
    "        return img_path,label"
   ]
  },
  {
   "cell_type": "code",
   "execution_count": 59,
   "id": "354efd06",
   "metadata": {},
   "outputs": [
    {
     "name": "stdout",
     "output_type": "stream",
     "text": [
      "                                               filename  \\\n",
      "0                                 JFBM-FISH-0022553.jpg   \n",
      "1     ark-_65665_m3e9156fee2bb64a56b45bacbbab425d07.jpg   \n",
      "2                                   INHS_FISH_61023.jpg   \n",
      "3                               80544_lat_FMNH_FZ#6.jpg   \n",
      "4            m3b534eebc-6ae8-4a4d-afb0-baa0fe87cfaa.jpg   \n",
      "...                                                 ...   \n",
      "9776                                      mb117012.jpeg   \n",
      "9777                           1906_9_8_182-184 c-S.jpg   \n",
      "9778                1525101805889pZyJMZceYnV3KooN#0.jpg   \n",
      "9779                                      mb126239.jpeg   \n",
      "9780                        11665__Hippocampus_sp_1.jpg   \n",
      "\n",
      "                                        source_filename original_format  \\\n",
      "0                                 JFBM-FISH-0022553.jpg             jpg   \n",
      "1     ark-_65665_m3e9156fee2bb64a56b45bacbbab425d07.jpg             jpg   \n",
      "2                                   INHS_FISH_61023.jpg             jpg   \n",
      "3                                 80544_lat_FMNH_FZ.jpg             jpg   \n",
      "4            m3b534eebc-6ae8-4a4d-afb0-baa0fe87cfaa.jpg             jpg   \n",
      "...                                                 ...             ...   \n",
      "9776                                        117012.jpeg            jpeg   \n",
      "9777                           1906_9_8_182-184 c-S.jpg             jpg   \n",
      "9778                  1525101805889pZyJMZceYnV3KooN.jpg             jpg   \n",
      "9779                                        126239.jpeg            jpeg   \n",
      "9780                        11665__Hippocampus_sp_1.jpg             jpg   \n",
      "\n",
      "         arkid         family     source  owner       standardized_species  \\\n",
      "0     fm82032s    Ictaluridae       GLIN   JFBM            noturus gyrinus   \n",
      "1     9f40283k     apogonidae    iDigBio   usnm           fowleria vaiulae   \n",
      "2     0695rf52  Centrarchidae       GLIN   INHS          lepomis cyanellus   \n",
      "3     9004rk30     Cyprinidae       GLIN   FMNH       cyprinella lutrensis   \n",
      "4     s838tx45       gobiidae    iDigBio   usnm                   gobiidae   \n",
      "...        ...            ...        ...    ...                        ...   \n",
      "9776  w3244h60   Syngnathidae  Morphbank    NaN    corythoichthys amplexus   \n",
      "9777  f059xm99      cichlidae    iDigBio  nhmuk  callochromis pleurospilus   \n",
      "9778  61303s40     characidae    iDigBio   mnhn               fuscoauratus   \n",
      "9779  3582bs7c     Apogonidae  Morphbank    NaN   ostorhinchus hartzfeldii   \n",
      "9780  fr625h8b   syngnathidae    iDigBio    mcz            hippocampus sp.   \n",
      "\n",
      "                                           original_url  \\\n",
      "0     https://fishair.org/hdr-share/ftp/ark/89609/GL...   \n",
      "1     https://fishair.org/hdr-share/ftp/ark/89609/iD...   \n",
      "2     https://fishair.org/hdr-share/ftp/ark/89609/GL...   \n",
      "3     https://fishair.org/hdr-share/ftp/ark/89609/GL...   \n",
      "4     https://fishair.org/hdr-share/ftp/ark/89609/iD...   \n",
      "...                                                 ...   \n",
      "9776  https://fishair.org/hdr-share/ftp/ark/89609/mo...   \n",
      "9777  https://fishair.org/hdr-share/ftp/ark/89609/iD...   \n",
      "9778  https://fishair.org/hdr-share/ftp/ark/89609/iD...   \n",
      "9779  https://fishair.org/hdr-share/ftp/ark/89609/mo...   \n",
      "9780  https://fishair.org/hdr-share/ftp/ark/89609/iD...   \n",
      "\n",
      "                     license  adipose_fin  pelvic_fin  barbel  \\\n",
      "0                    CC0 1.0          NaN         NaN     NaN   \n",
      "1     Usage Conditions Apply          NaN         NaN     NaN   \n",
      "2                   CC BY-NC          NaN         NaN     NaN   \n",
      "3                   CC BY-NC          NaN         NaN     NaN   \n",
      "4     Usage Conditions Apply          NaN         NaN     NaN   \n",
      "...                      ...          ...         ...     ...   \n",
      "9776         CC BY-NC-SA 3.0          NaN         NaN     NaN   \n",
      "9777               CC BY 4.0          NaN         NaN     NaN   \n",
      "9778                   CC BY          NaN         NaN     NaN   \n",
      "9779         CC BY-NC-SA 3.0          NaN         NaN     NaN   \n",
      "9780         CC BY-NC-SA 3.0          NaN         NaN     NaN   \n",
      "\n",
      "      multiple_dorsal_fin                                          file_name  \\\n",
      "0                     NaN               Images/chunk_4/JFBM-FISH-0022553.jpg   \n",
      "1                     NaN  Images/chunk_4/ark-_65665_m3e9156fee2bb64a56b4...   \n",
      "2                     NaN                 Images/chunk_4/INHS_FISH_61023.jpg   \n",
      "3                     NaN             Images/chunk_4/80544_lat_FMNH_FZ#6.jpg   \n",
      "4                     NaN  Images/chunk_4/m3b534eebc-6ae8-4a4d-afb0-baa0f...   \n",
      "...                   ...                                                ...   \n",
      "9776                  NaN                                                NaN   \n",
      "9777                  NaN                                                NaN   \n",
      "9778                  NaN                                                NaN   \n",
      "9779                  NaN                                                NaN   \n",
      "9780                  NaN                                                NaN   \n",
      "\n",
      "                  verbatim_species                    species  \n",
      "0                              NaN                        NaN  \n",
      "1                              NaN                        NaN  \n",
      "2                              NaN                        NaN  \n",
      "3                              NaN                        NaN  \n",
      "4                              NaN                        NaN  \n",
      "...                            ...                        ...  \n",
      "9776       corythoichthys amplexus    corythoichthys amplexus  \n",
      "9777   pelmatochromis pleurospilus  callochromis pleurospilus  \n",
      "9778  tetragonopterus fuscoauratus               fuscoauratus  \n",
      "9779            apogon hartzfeldii   ostorhinchus hartzfeldii  \n",
      "9780               hippocampus sp.            hippocampus sp.  \n",
      "\n",
      "[9781 rows x 17 columns]\n"
     ]
    }
   ],
   "source": [
    "df = pd.read_csv(\"dataset/classification_test.csv\")\n",
    "print(df)"
   ]
  },
  {
   "cell_type": "code",
   "execution_count": 73,
   "id": "7c151a5f",
   "metadata": {},
   "outputs": [
    {
     "name": "stdout",
     "output_type": "stream",
     "text": [
      "56360\n",
      "('dataset\\\\Image\\\\INHS_FISH_25132.jpg', 1)\n",
      "Counter({0: 30409, 1: 25951})\n"
     ]
    },
    {
     "name": "stderr",
     "output_type": "stream",
     "text": [
      "C:\\Users\\willm\\AppData\\Local\\Temp\\ipykernel_33476\\68479286.py:9: DtypeWarning: Columns (15,16) have mixed types. Specify dtype option on import or set low_memory=False.\n",
      "  df = pd.read_csv(df_dir)\n"
     ]
    }
   ],
   "source": [
    "root_dir = \"dataset\"\n",
    "\n",
    "transform = transforms.Compose([\n",
    "        transforms.Resize((256, 256)),\n",
    "        transforms.ToTensor(),\n",
    "    ])\n",
    "dataset = FishLabelDataset(root_dir, transform=transform)\n",
    "# Iterate over each dataset folder\n",
    "\n",
    "print(len(dataset))\n",
    "print(dataset[1])\n",
    "counter = Counter(dataset.labels)\n",
    "print(counter)"
   ]
  }
 ],
 "metadata": {
  "kernelspec": {
   "display_name": "Python 3",
   "language": "python",
   "name": "python3"
  },
  "language_info": {
   "codemirror_mode": {
    "name": "ipython",
    "version": 3
   },
   "file_extension": ".py",
   "mimetype": "text/x-python",
   "name": "python",
   "nbconvert_exporter": "python",
   "pygments_lexer": "ipython3",
   "version": "3.12.8"
  }
 },
 "nbformat": 4,
 "nbformat_minor": 5
}
